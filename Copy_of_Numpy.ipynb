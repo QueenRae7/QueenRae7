{
  "nbformat": 4,
  "nbformat_minor": 0,
  "metadata": {
    "colab": {
      "provenance": [],
      "include_colab_link": true
    },
    "kernelspec": {
      "name": "python3",
      "display_name": "Python 3"
    },
    "language_info": {
      "name": "python"
    }
  },
  "cells": [
    {
      "cell_type": "markdown",
      "metadata": {
        "id": "view-in-github",
        "colab_type": "text"
      },
      "source": [
        "<a href=\"https://colab.research.google.com/github/QueenRae7/QueenRae7/blob/main/Copy_of_Numpy.ipynb\" target=\"_parent\"><img src=\"https://colab.research.google.com/assets/colab-badge.svg\" alt=\"Open In Colab\"/></a>"
      ]
    },
    {
      "cell_type": "markdown",
      "source": [
        "# 2 Dimensional Numpy Array"
      ],
      "metadata": {
        "id": "zzomTzDhSEwd"
      }
    },
    {
      "cell_type": "code",
      "execution_count": null,
      "metadata": {
        "id": "VTaqp9r_R76E"
      },
      "outputs": [],
      "source": [
        "import numpy as np"
      ]
    },
    {
      "cell_type": "code",
      "source": [
        "# Create a 2 Dimensional numpy array of of shape(3, 4)\n",
        "Arr1 = np.array([[10, 20, 30, 49], [30, 87, 34, 23], [78, 23, 12, 89]])\n",
        "print(Arr1)"
      ],
      "metadata": {
        "colab": {
          "base_uri": "https://localhost:8080/"
        },
        "id": "qsWUEEwdSMN4",
        "outputId": "40253708-aede-414d-eed4-5685b19b8f06"
      },
      "execution_count": null,
      "outputs": [
        {
          "output_type": "stream",
          "name": "stdout",
          "text": [
            "[[10 20 30 49]\n",
            " [30 87 34 23]\n",
            " [78 23 12 89]]\n"
          ]
        }
      ]
    },
    {
      "cell_type": "code",
      "source": [
        "# shape\n",
        "print(Arr1.shape)"
      ],
      "metadata": {
        "colab": {
          "base_uri": "https://localhost:8080/"
        },
        "id": "GeemabsOSyC1",
        "outputId": "74a7574d-7ea9-4df4-c8dd-4014932b0180"
      },
      "execution_count": null,
      "outputs": [
        {
          "output_type": "stream",
          "name": "stdout",
          "text": [
            "(3, 4)\n"
          ]
        }
      ]
    },
    {
      "cell_type": "code",
      "source": [
        "# dimension\n",
        "print(Arr1.ndim)"
      ],
      "metadata": {
        "colab": {
          "base_uri": "https://localhost:8080/"
        },
        "id": "_NbzyMuHS6o4",
        "outputId": "ad7189a9-ab4d-4f1e-e4fd-2742a191ddaf"
      },
      "execution_count": null,
      "outputs": [
        {
          "output_type": "stream",
          "name": "stdout",
          "text": [
            "2\n"
          ]
        }
      ]
    },
    {
      "cell_type": "code",
      "source": [
        "# dtype -- The type of element it contains\n",
        "print(Arr1.dtype)"
      ],
      "metadata": {
        "colab": {
          "base_uri": "https://localhost:8080/"
        },
        "id": "2K-sCWDSS-m6",
        "outputId": "7eb9956a-9820-4d63-ae7d-613a152b2d14"
      },
      "execution_count": null,
      "outputs": [
        {
          "output_type": "stream",
          "name": "stdout",
          "text": [
            "int64\n"
          ]
        }
      ]
    },
    {
      "cell_type": "markdown",
      "source": [
        "## Create a numpy array of shape (4, 2)"
      ],
      "metadata": {
        "id": "Ozrk0rmgU8C3"
      }
    },
    {
      "cell_type": "code",
      "source": [
        "Arr2 = np.array([[10, 20], [30, 50], [40, 34], [20, 89]])\n",
        "print(Arr2)"
      ],
      "metadata": {
        "colab": {
          "base_uri": "https://localhost:8080/"
        },
        "id": "WSBnLgihTERj",
        "outputId": "dfc9313c-f8ae-44d5-99b8-1a0d59bb6003"
      },
      "execution_count": null,
      "outputs": [
        {
          "output_type": "stream",
          "name": "stdout",
          "text": [
            "[[10 20]\n",
            " [30 50]\n",
            " [40 34]\n",
            " [20 89]]\n"
          ]
        }
      ]
    },
    {
      "cell_type": "code",
      "source": [
        "print(Arr2.shape)\n",
        "print(Arr2.ndim)\n",
        "print(Arr2.dtype)\n",
        "print(Arr2.size) # number of element"
      ],
      "metadata": {
        "colab": {
          "base_uri": "https://localhost:8080/"
        },
        "id": "d5Jxg1EjVNWr",
        "outputId": "5c3825f7-5be8-435a-8e8f-331c2e1393e1"
      },
      "execution_count": null,
      "outputs": [
        {
          "output_type": "stream",
          "name": "stdout",
          "text": [
            "(4, 2)\n",
            "2\n",
            "int64\n",
            "8\n"
          ]
        }
      ]
    },
    {
      "cell_type": "markdown",
      "source": [
        "Task - Create a numpy array of shape (5, 4)"
      ],
      "metadata": {
        "id": "mg4BoQKiWeRr"
      }
    },
    {
      "cell_type": "code",
      "source": [
        "Arr3 = np.array([['a','b','c','d'], ['e','f','g','h'], ['i','j','k','l'], ['m','n','o','p'],\n",
        "                 ['r','s','t','u']])\n",
        "print(Arr3)"
      ],
      "metadata": {
        "colab": {
          "base_uri": "https://localhost:8080/"
        },
        "id": "Se2LbySwVWW1",
        "outputId": "30d6c264-d610-4dc3-d9f1-f13570e46c13"
      },
      "execution_count": null,
      "outputs": [
        {
          "output_type": "stream",
          "name": "stdout",
          "text": [
            "[['a' 'b' 'c' 'd']\n",
            " ['e' 'f' 'g' 'h']\n",
            " ['i' 'j' 'k' 'l']\n",
            " ['m' 'n' 'o' 'p']\n",
            " ['r' 's' 't' 'u']]\n"
          ]
        }
      ]
    },
    {
      "cell_type": "code",
      "source": [
        "print(Arr3.shape)"
      ],
      "metadata": {
        "colab": {
          "base_uri": "https://localhost:8080/"
        },
        "id": "bHmsylpPYBa-",
        "outputId": "c4205f01-c6d2-4e2e-bc46-326f9a403ad0"
      },
      "execution_count": null,
      "outputs": [
        {
          "output_type": "stream",
          "name": "stdout",
          "text": [
            "(5, 4)\n"
          ]
        }
      ]
    },
    {
      "cell_type": "markdown",
      "source": [
        "# 3 Dimensional Array"
      ],
      "metadata": {
        "id": "yxPIufl_ZSrC"
      }
    },
    {
      "cell_type": "code",
      "source": [
        "Arr4 = np.array([[[1,2],[3,4],[5,6],[7,8]]])\n",
        "print(Arr4)"
      ],
      "metadata": {
        "colab": {
          "base_uri": "https://localhost:8080/"
        },
        "id": "jkXWIMQfYFUQ",
        "outputId": "2f73e9ad-b013-48a0-d7bc-0495d9489e26"
      },
      "execution_count": null,
      "outputs": [
        {
          "output_type": "stream",
          "name": "stdout",
          "text": [
            "[[[1 2]\n",
            "  [3 4]\n",
            "  [5 6]\n",
            "  [7 8]]]\n"
          ]
        }
      ]
    },
    {
      "cell_type": "code",
      "source": [
        "print(Arr4.shape)"
      ],
      "metadata": {
        "colab": {
          "base_uri": "https://localhost:8080/"
        },
        "id": "MvNmf-03Zkk1",
        "outputId": "2a730134-16d1-4f4a-93b1-5060615ddf59"
      },
      "execution_count": null,
      "outputs": [
        {
          "output_type": "stream",
          "name": "stdout",
          "text": [
            "(1, 4, 2)\n"
          ]
        }
      ]
    },
    {
      "cell_type": "code",
      "source": [
        "Arr5 = np.array([[[1,2],[3,4],[5,6],[7,8]],[[3,2],[9,4],[3,6],[7,8]]])\n",
        "print(Arr5)"
      ],
      "metadata": {
        "colab": {
          "base_uri": "https://localhost:8080/"
        },
        "id": "U9lW1vEMZmu1",
        "outputId": "99ddccfb-b429-4b43-b7a3-89d8407c0097"
      },
      "execution_count": null,
      "outputs": [
        {
          "output_type": "stream",
          "name": "stdout",
          "text": [
            "[[[1 2]\n",
            "  [3 4]\n",
            "  [5 6]\n",
            "  [7 8]]\n",
            "\n",
            " [[3 2]\n",
            "  [9 4]\n",
            "  [3 6]\n",
            "  [7 8]]]\n"
          ]
        }
      ]
    },
    {
      "cell_type": "code",
      "source": [
        "print(Arr5.shape)"
      ],
      "metadata": {
        "colab": {
          "base_uri": "https://localhost:8080/"
        },
        "id": "x_6iMkNXZ8El",
        "outputId": "14119c3f-d9a7-411e-85ba-e6a9b123bd67"
      },
      "execution_count": null,
      "outputs": [
        {
          "output_type": "stream",
          "name": "stdout",
          "text": [
            "(2, 4, 2)\n"
          ]
        }
      ]
    },
    {
      "cell_type": "markdown",
      "source": [
        "### np.zeros() --- it will generate the matrix of 0"
      ],
      "metadata": {
        "id": "siPjehiJbjgL"
      }
    },
    {
      "cell_type": "code",
      "source": [
        "Arr6 = np.zeros([4,5])\n",
        "print(Arr6)"
      ],
      "metadata": {
        "colab": {
          "base_uri": "https://localhost:8080/"
        },
        "id": "aDqFmFZJZ-YA",
        "outputId": "6c5b3e34-5689-4c9e-dbca-e518a6fcbbd3"
      },
      "execution_count": null,
      "outputs": [
        {
          "output_type": "stream",
          "name": "stdout",
          "text": [
            "[[0. 0. 0. 0. 0.]\n",
            " [0. 0. 0. 0. 0.]\n",
            " [0. 0. 0. 0. 0.]\n",
            " [0. 0. 0. 0. 0.]]\n"
          ]
        }
      ]
    },
    {
      "cell_type": "code",
      "source": [
        "Arr6 = np.zeros([4,5], dtype = 'int')\n",
        "print(Arr6)"
      ],
      "metadata": {
        "colab": {
          "base_uri": "https://localhost:8080/"
        },
        "id": "cRO7HdI0bvJK",
        "outputId": "71e79201-e673-4fbb-c6a0-a623aedab1a6"
      },
      "execution_count": null,
      "outputs": [
        {
          "output_type": "stream",
          "name": "stdout",
          "text": [
            "[[0 0 0 0 0]\n",
            " [0 0 0 0 0]\n",
            " [0 0 0 0 0]\n",
            " [0 0 0 0 0]]\n"
          ]
        }
      ]
    },
    {
      "cell_type": "markdown",
      "source": [
        "### np.ones() --- it wil generate the matrix containing the all 1"
      ],
      "metadata": {
        "id": "AnyGO0hucVcY"
      }
    },
    {
      "cell_type": "code",
      "source": [
        "Arr7 = np.ones([4, 3])\n",
        "print(Arr7)"
      ],
      "metadata": {
        "colab": {
          "base_uri": "https://localhost:8080/"
        },
        "id": "6-oHSlxvb0Ep",
        "outputId": "08371bb8-b40d-42fe-e2bd-47ad79baeebf"
      },
      "execution_count": null,
      "outputs": [
        {
          "output_type": "stream",
          "name": "stdout",
          "text": [
            "[[1. 1. 1.]\n",
            " [1. 1. 1.]\n",
            " [1. 1. 1.]\n",
            " [1. 1. 1.]]\n"
          ]
        }
      ]
    },
    {
      "cell_type": "code",
      "source": [
        "# converting into the integer\n",
        "\n",
        "Arr7 = np.ones([4, 3], dtype = 'int')\n",
        "print(Arr7)"
      ],
      "metadata": {
        "colab": {
          "base_uri": "https://localhost:8080/"
        },
        "id": "MBEPFHvMchBF",
        "outputId": "1219b31d-44e4-4b4d-e395-4164a3ef093c"
      },
      "execution_count": null,
      "outputs": [
        {
          "output_type": "stream",
          "name": "stdout",
          "text": [
            "[[1 1 1]\n",
            " [1 1 1]\n",
            " [1 1 1]\n",
            " [1 1 1]]\n"
          ]
        }
      ]
    },
    {
      "cell_type": "markdown",
      "source": [
        "## arange() -- it will generate one dimentional array from the defined range"
      ],
      "metadata": {
        "id": "jRHtbDILgS8Q"
      }
    },
    {
      "cell_type": "code",
      "source": [
        "# generate one numpy array from 0 to 10\n",
        "\n",
        "Arr8 = np.arange(0, 11)\n",
        "print(Arr8)\n",
        "print(type(Arr8))"
      ],
      "metadata": {
        "colab": {
          "base_uri": "https://localhost:8080/"
        },
        "id": "1Murcskccm0f",
        "outputId": "0dac52f0-d75c-4728-f09a-37b104ece944"
      },
      "execution_count": null,
      "outputs": [
        {
          "output_type": "stream",
          "name": "stdout",
          "text": [
            "[ 0  1  2  3  4  5  6  7  8  9 10]\n",
            "<class 'numpy.ndarray'>\n"
          ]
        }
      ]
    },
    {
      "cell_type": "code",
      "source": [
        "Arr9 = np.arange(3, 21).reshape(6, 3)\n",
        "print(Arr9)\n",
        "print(Arr9.size)"
      ],
      "metadata": {
        "colab": {
          "base_uri": "https://localhost:8080/"
        },
        "id": "EiP6qU5BgktB",
        "outputId": "3e37031c-68c0-4ba5-fb61-9977e6b70727"
      },
      "execution_count": null,
      "outputs": [
        {
          "output_type": "stream",
          "name": "stdout",
          "text": [
            "[[ 3  4  5]\n",
            " [ 6  7  8]\n",
            " [ 9 10 11]\n",
            " [12 13 14]\n",
            " [15 16 17]\n",
            " [18 19 20]]\n",
            "18\n"
          ]
        }
      ]
    },
    {
      "cell_type": "code",
      "source": [
        "print(Arr9.ndim)"
      ],
      "metadata": {
        "colab": {
          "base_uri": "https://localhost:8080/"
        },
        "id": "DLraC-NIhcFV",
        "outputId": "c6c5345d-1d3c-4272-863b-c3ec7f58d1b7"
      },
      "execution_count": null,
      "outputs": [
        {
          "output_type": "stream",
          "name": "stdout",
          "text": [
            "2\n"
          ]
        }
      ]
    },
    {
      "cell_type": "code",
      "source": [
        "# converting 2D data into 1D"
      ],
      "metadata": {
        "id": "sf9X3TjZhswC"
      },
      "execution_count": null,
      "outputs": []
    },
    {
      "cell_type": "code",
      "source": [
        "Arr9"
      ],
      "metadata": {
        "colab": {
          "base_uri": "https://localhost:8080/"
        },
        "id": "I-sDcvxLjJ-T",
        "outputId": "48c1f68c-b894-4a5e-bc6c-e9e5a5af0178"
      },
      "execution_count": null,
      "outputs": [
        {
          "output_type": "execute_result",
          "data": {
            "text/plain": [
              "array([[ 3,  4,  5],\n",
              "       [ 6,  7,  8],\n",
              "       [ 9, 10, 11],\n",
              "       [12, 13, 14],\n",
              "       [15, 16, 17],\n",
              "       [18, 19, 20]])"
            ]
          },
          "metadata": {},
          "execution_count": 27
        }
      ]
    },
    {
      "cell_type": "code",
      "source": [
        "Arr10 = Arr9.reshape(18)\n",
        "Arr10"
      ],
      "metadata": {
        "colab": {
          "base_uri": "https://localhost:8080/"
        },
        "id": "1W6XufBNjLCY",
        "outputId": "ac747c98-2f14-4e1b-ef84-a3d9b08c6acf"
      },
      "execution_count": null,
      "outputs": [
        {
          "output_type": "execute_result",
          "data": {
            "text/plain": [
              "array([ 3,  4,  5,  6,  7,  8,  9, 10, 11, 12, 13, 14, 15, 16, 17, 18, 19,\n",
              "       20])"
            ]
          },
          "metadata": {},
          "execution_count": 28
        }
      ]
    },
    {
      "cell_type": "code",
      "source": [
        "# second approach\n",
        "\n",
        "Arr11 = Arr9.flatten()\n",
        "Arr11"
      ],
      "metadata": {
        "colab": {
          "base_uri": "https://localhost:8080/"
        },
        "id": "EdjdZExMjTuc",
        "outputId": "5f9136ef-a90f-4a8e-8422-4041bc28be1a"
      },
      "execution_count": null,
      "outputs": [
        {
          "output_type": "execute_result",
          "data": {
            "text/plain": [
              "array([ 3,  4,  5,  6,  7,  8,  9, 10, 11, 12, 13, 14, 15, 16, 17, 18, 19,\n",
              "       20])"
            ]
          },
          "metadata": {},
          "execution_count": 29
        }
      ]
    },
    {
      "cell_type": "code",
      "source": [
        "Arr12 = Arr11.reshape(2, 3, 3)\n",
        "print(Arr12)\n",
        "print(Arr12.ndim)"
      ],
      "metadata": {
        "colab": {
          "base_uri": "https://localhost:8080/"
        },
        "id": "jSJ0j8GJjZjT",
        "outputId": "00643807-6deb-4364-abc7-c20d6be9ea91"
      },
      "execution_count": null,
      "outputs": [
        {
          "output_type": "stream",
          "name": "stdout",
          "text": [
            "[[[ 3  4  5]\n",
            "  [ 6  7  8]\n",
            "  [ 9 10 11]]\n",
            "\n",
            " [[12 13 14]\n",
            "  [15 16 17]\n",
            "  [18 19 20]]]\n",
            "3\n"
          ]
        }
      ]
    },
    {
      "cell_type": "code",
      "source": [],
      "metadata": {
        "id": "__JUgu66kbdl"
      },
      "execution_count": null,
      "outputs": []
    }
  ]
}